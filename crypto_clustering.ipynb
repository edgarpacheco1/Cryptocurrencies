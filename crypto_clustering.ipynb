{
 "cells": [
  {
   "cell_type": "code",
   "execution_count": null,
   "metadata": {},
   "outputs": [],
   "source": [
    "# Initial imports\n",
    "import pandas as pd\n",
    "import hvplot.pandas\n",
    "from path import Path\n",
    "import plotly.express as px\n",
    "from sklearn.preprocessing import StandardScaler, MinMaxScaler\n",
    "from sklearn.decomposition import PCA\n",
    "from sklearn.cluster import KMeans"
   ]
  },
  {
   "cell_type": "code",
   "execution_count": null,
   "metadata": {},
   "outputs": [],
   "source": [
    "# Load the crypto_data.csv dataset.\n",
    "crypto_df = pd.read_csv('crypto_data.csv', index_col=0)\n",
    "crypto_df"
   ]
  },
  {
   "cell_type": "code",
   "execution_count": null,
   "metadata": {},
   "outputs": [],
   "source": [
    "# Keep all the cryptocurrencies that are being traded.\n",
    "crypto_df = crypto_df[crypto_df['IsTrading'] == True]\n",
    "crypto_df"
   ]
  },
  {
   "cell_type": "code",
   "execution_count": null,
   "metadata": {},
   "outputs": [],
   "source": [
    "# Keep all the cryptocurrencies that have a working algorithm.\n",
    "crypto_df['Algorithm'].isnull().sum()"
   ]
  },
  {
   "cell_type": "code",
   "execution_count": null,
   "metadata": {},
   "outputs": [],
   "source": [
    "crypto_df = crypto_df[crypto_df['Algorithm'].notnull()]\n",
    "crypto_df"
   ]
  },
  {
   "cell_type": "code",
   "execution_count": null,
   "metadata": {},
   "outputs": [],
   "source": [
    "# Remove the \"IsTrading\" column. \n",
    "crypto_df = crypto_df.drop('IsTrading', axis=1)\n",
    "crypto_df"
   ]
  },
  {
   "cell_type": "code",
   "execution_count": null,
   "metadata": {},
   "outputs": [],
   "source": [
    "# Remove rows that have at least 1 null value.\n",
    "crypto_df = crypto_df.dropna()\n",
    "crypto_df"
   ]
  },
  {
   "cell_type": "code",
   "execution_count": null,
   "metadata": {},
   "outputs": [],
   "source": [
    "# Keep the rows where coins are mined.\n",
    "crypto_df = crypto_df[crypto_df['TotalCoinsMined'] > 1]\n",
    "crypto_df"
   ]
  },
  {
   "cell_type": "code",
   "execution_count": null,
   "metadata": {},
   "outputs": [],
   "source": [
    "# Create a new DataFrame that holds only the cryptocurrencies names.\n",
    "crypto_names_df = pd.DataFrame(crypto_df['CoinName'])\n",
    "crypto_names_df"
   ]
  },
  {
   "cell_type": "code",
   "execution_count": null,
   "metadata": {},
   "outputs": [],
   "source": [
    "# Drop the 'CoinName' column since it's not going to be used on the clustering algorithm.\n",
    "crypto_df = crypto_df.drop('CoinName', axis=1)\n",
    "crypto_df"
   ]
  },
  {
   "cell_type": "code",
   "execution_count": null,
   "metadata": {},
   "outputs": [],
   "source": [
    "# Use get_dummies() to create variables for text features.\n",
    "X = pd.get_dummies(crypto_df, columns=['Algorithm','ProofType'])\n",
    "X"
   ]
  },
  {
   "cell_type": "code",
   "execution_count": null,
   "metadata": {},
   "outputs": [],
   "source": [
    "# Standardize the data with StandardScaler().\n",
    "X_scaled = StandardScaler().fit_transform(X)\n",
    "X_scaled"
   ]
  },
  {
   "cell_type": "code",
   "execution_count": null,
   "metadata": {},
   "outputs": [],
   "source": [
    "# Using PCA to reduce dimension to three principal components.\n",
    "pca = PCA(n_components=3)\n",
    "\n",
    "crypto_pca = pca.fit_transform(X_scaled)\n",
    "crypto_pca"
   ]
  },
  {
   "cell_type": "code",
   "execution_count": null,
   "metadata": {},
   "outputs": [],
   "source": [
    "# Create a DataFrame with the three principal components.\n",
    "pca_df = pd.DataFrame(data=crypto_pca, columns=['PC 1','PC 2','PC 3'], index=X.index)\n",
    "pca_df.head(10)"
   ]
  },
  {
   "cell_type": "code",
   "execution_count": null,
   "metadata": {},
   "outputs": [],
   "source": [
    "inertia = []\n",
    "k = list(range(1,11))\n",
    "\n",
    "for i in k:\n",
    "    km = KMeans(n_clusters=i, random_state=0)\n",
    "    km.fit(pca_df)\n",
    "    inertia.append(km.inertia_)"
   ]
  },
  {
   "cell_type": "code",
   "execution_count": null,
   "metadata": {},
   "outputs": [],
   "source": [
    "# Create an elbow curve to find the best value for K.\n",
    "elbow_data = {'k' : k, 'inertia' : inertia}\n",
    "elbow_df = pd.DataFrame(elbow_data)\n",
    "elbow_df.hvplot.line(x='k', y='inertia', title='Elbow Curve', xticks=k)"
   ]
  },
  {
   "cell_type": "code",
   "execution_count": null,
   "metadata": {},
   "outputs": [],
   "source": [
    "# Initialize the K-Means model.\n",
    "model = KMeans(n_clusters=4, random_state=1)\n",
    "\n",
    "# Fit the model\n",
    "model.fit(pca_df)\n",
    "\n",
    "# Predict clusters\n",
    "predictions = model.predict(pca_df)\n",
    "predictions"
   ]
  },
  {
   "cell_type": "code",
   "execution_count": null,
   "metadata": {},
   "outputs": [],
   "source": [
    "# Create a new DataFrame including predicted clusters and cryptocurrencies features.\n",
    "# Concatentate the crypto_df and pcs_df DataFrames on the same columns.\n",
    "clustered_df = pd.concat([crypto_df,pca_df], axis= 1, join=\"inner\")\n",
    "\n",
    "#  Add a new column, \"CoinName\" to the clustered_df DataFrame that holds the names of the cryptocurrencies. \n",
    "clustered_df = pd.concat([clustered_df,crypto_names_df], axis= 1, join=\"inner\")\n",
    "\n",
    "#  Add a new column, \"Class\" to the clustered_df DataFrame that holds the predictions.\n",
    "clustered_df[\"Class\"] = model.labels_\n",
    "\n",
    "# Print the shape of the clustered_df\n",
    "print(clustered_df.shape)\n",
    "clustered_df.head(10)"
   ]
  },
  {
   "cell_type": "code",
   "execution_count": null,
   "metadata": {},
   "outputs": [],
   "source": [
    "# Creating a 3D-Scatter with the PCA data and the clusters\n",
    "fig = px.scatter_3d(\n",
    "    clustered_df,\n",
    "    x='PC 1',\n",
    "    y='PC 2',\n",
    "    z='PC 3',\n",
    "    color='Class',\n",
    "    symbol='Class',\n",
    "    hover_name= 'CoinName',\n",
    "    hover_data= ['Algorithm'],\n",
    "    width=800,\n",
    ")\n",
    "fig.update_layout(legend=dict(x=0, y=1))\n",
    "fig.show()"
   ]
  },
  {
   "cell_type": "code",
   "execution_count": null,
   "metadata": {},
   "outputs": [],
   "source": [
    "# Create a table with tradable cryptocurrencies.\n",
    "clustered_df.hvplot.table(\n",
    "    columns=['CoinName', 'Algorithm', 'ProofType','TotalCoinSupply','TotalCoinsMined', 'Class'],\n",
    "    sortable=True, \n",
    "    selectable=True\n",
    ")"
   ]
  },
  {
   "cell_type": "code",
   "execution_count": null,
   "metadata": {},
   "outputs": [],
   "source": [
    "# Print the total number of tradable cryptocurrencies.\n",
    "print(f'There are {len(clustered_df)}  tradable cryptocurrencies.')"
   ]
  },
  {
   "cell_type": "code",
   "execution_count": null,
   "metadata": {},
   "outputs": [],
   "source": [
    "# Scaling data to create the scatter plot with tradable cryptocurrencies.\n",
    "clustered_scaled = MinMaxScaler().fit_transform(clustered_df[['TotalCoinSupply', 'TotalCoinsMined']])\n",
    "clustered_scaled"
   ]
  },
  {
   "cell_type": "code",
   "execution_count": null,
   "metadata": {},
   "outputs": [],
   "source": [
    "# Create a new DataFrame that has the scaled data with the clustered_df DataFrame index.\n",
    "plot_df = pd.DataFrame(\n",
    "    data=clustered_scaled, columns=[\"TotalCoinSupply\", \"TotalCoinsMined\"], index=clustered_df.index.copy()\n",
    ")\n",
    "\n",
    "# Add the \"CoinName\" column from the clustered_df DataFrame to the new DataFrame.\n",
    "plot_df['CoinName'] = clustered_df['CoinName']\n",
    "\n",
    "# Add the \"Class\" column from the clustered_df DataFrame to the new DataFrame. \n",
    "plot_df['Class'] = clustered_df['Class']\n",
    "\n",
    "\n",
    "plot_df.head(10)"
   ]
  },
  {
   "cell_type": "code",
   "execution_count": null,
   "metadata": {},
   "outputs": [],
   "source": [
    "# Create a hvplot.scatter plot using x=\"TotalCoinsMined\" and y=\"TotalCoinSupply\".\n",
    "plot_df.hvplot.scatter(\n",
    "    x=\"TotalCoinsMined\", \n",
    "    y=\"TotalCoinSupply\",\n",
    "    by=\"Class\",\n",
    "    hover_cols=\"CoinName\"\n",
    ")"
   ]
  }
 ],
 "metadata": {
  "language_info": {
   "name": "python"
  },
  "orig_nbformat": 4
 },
 "nbformat": 4,
 "nbformat_minor": 2
}
